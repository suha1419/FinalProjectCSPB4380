{
  "nbformat": 4,
  "nbformat_minor": 0,
  "metadata": {
    "colab": {
      "provenance": [],
      "gpuType": "T4",
      "authorship_tag": "ABX9TyPhDMnHLkiJblG39lV5lqtr",
      "include_colab_link": true
    },
    "kernelspec": {
      "name": "python3",
      "display_name": "Python 3"
    },
    "language_info": {
      "name": "python"
    },
    "accelerator": "GPU"
  },
  "cells": [
    {
      "cell_type": "markdown",
      "metadata": {
        "id": "view-in-github",
        "colab_type": "text"
      },
      "source": [
        "<a href=\"https://colab.research.google.com/github/suha1419/FinalProjectCSPB4380/blob/main/CSPB4380FinalProject_suha1419.ipynb\" target=\"_parent\"><img src=\"https://colab.research.google.com/assets/colab-badge.svg\" alt=\"Open In Colab\"/></a>"
      ]
    },
    {
      "cell_type": "code",
      "execution_count": null,
      "metadata": {
        "collapsed": true,
        "id": "xXQgeY1CR1c6"
      },
      "outputs": [],
      "source": [
        "#pip install transformers datasets scikit-learn torch evaluate accelerate\n",
        "#!pip install -U \"transformers>=4.30.0\" \"datasets\" \"evaluate\" \"accelerate\" \"scikit-learn\" \"torch\" \"scikit-learn\"\n",
        "!pip install \"transformers>=4.30.0\"\n",
        "!pip install datasets\n",
        "!pip install torch\n",
        "!pip install scikit-learn\n",
        "!pip install evaluate\n",
        "!pip install accelerate"
      ]
    },
    {
      "cell_type": "code",
      "source": [
        "# Step 2: Imports\n",
        "from datasets import load_dataset, DatasetDict\n",
        "from transformers import AutoTokenizer, AutoModelForSequenceClassification, TrainingArguments, Trainer\n",
        "from sklearn.metrics import classification_report, accuracy_score, f1_score, precision_recall_fscore_support, confusion_matrix\n",
        "import evaluate\n",
        "import numpy as np\n",
        "import matplotlib.pyplot as plt\n",
        "import random\n",
        "import pandas as pd\n",
        "from sklearn.model_selection import train_test_split\n",
        "from torch.utils.data import Dataset\n",
        "import torch\n",
        "from torch.utils.data import DataLoader\n",
        "from torch.nn.functional import softmax\n",
        "from tqdm import tqdm\n",
        "import torch.nn as nn\n"
      ],
      "metadata": {
        "id": "WKTlThkmAMMB"
      },
      "execution_count": null,
      "outputs": []
    },
    {
      "cell_type": "code",
      "source": [
        "SEED = 42\n",
        "random.seed(SEED)\n",
        "np.random.seed(SEED)\n",
        "torch.manual_seed(SEED)"
      ],
      "metadata": {
        "id": "K80xnKh4AMJU"
      },
      "execution_count": null,
      "outputs": []
    },
    {
      "cell_type": "code",
      "source": [
        "# Load Dataset\n",
        "# For financial phrase bank, labels are:\n",
        "# 0: Negative\n",
        "# 1: Neutral\n",
        "# 2: Positive\n",
        "# We will maintain this structure\n",
        "\n",
        "dataset = load_dataset(\"financial_phrasebank\", \"sentences_50agree\")\n",
        "print(dataset[\"train\"][0])\n",
        "print(dataset[\"train\"][1])\n",
        "print(dataset[\"train\"][2])\n",
        "print(dataset[\"train\"].features)"
      ],
      "metadata": {
        "id": "r-PffaTZAMGO",
        "collapsed": true
      },
      "execution_count": null,
      "outputs": []
    },
    {
      "cell_type": "code",
      "source": [
        "# Load Models\n",
        "# Note: we instantiate the bert-base with 3 labels\n",
        "models = {\n",
        "    \"bert-base\": {\n",
        "        \"model\": AutoModelForSequenceClassification.from_pretrained(\"bert-base-uncased\", num_labels=3),\n",
        "        \"tokenizer\": AutoTokenizer.from_pretrained(\"bert-base-uncased\")\n",
        "    },\n",
        "    \"finbert\": {\n",
        "        \"model\": AutoModelForSequenceClassification.from_pretrained(\"yiyanghkust/finbert-tone\"),\n",
        "        \"tokenizer\": AutoTokenizer.from_pretrained(\"yiyanghkust/finbert-tone\")\n",
        "    }\n",
        "}"
      ],
      "metadata": {
        "id": "H7o-wnN2SCvQ",
        "collapsed": true
      },
      "execution_count": null,
      "outputs": []
    },
    {
      "cell_type": "code",
      "source": [
        "# Check model configuration\n",
        "# Note: We need to remap the finbert output to the model dataset for consistency\n",
        "# bert has not been trained\n",
        "print(models[\"bert-base\"][\"model\"].config.id2label)\n",
        "print(models[\"finbert\"][\"model\"].config.id2label)"
      ],
      "metadata": {
        "id": "OKXXWuCnTU4b",
        "collapsed": true
      },
      "execution_count": null,
      "outputs": []
    },
    {
      "cell_type": "code",
      "source": [
        "# Split the dataset\n",
        "# Test size of 20%, shuffle data, stratify to maintain proportions\n",
        "\n",
        "train_texts, val_texts, train_labels, val_labels = train_test_split(\n",
        "    dataset['train']['sentence'],\n",
        "    dataset['train']['label'],\n",
        "    test_size=0.2,\n",
        "    shuffle=True,\n",
        "    stratify=dataset['train']['label'],\n",
        "    random_state=42)\n",
        "\n",
        "print(f'Number of training examples: {len(train_texts)}')\n",
        "print(f'Number of validation examples: {len(val_texts)}')\n",
        "\n",
        "#train_labels_finbert = remap_labels_for_finbert(train_labels)\n",
        "#val_labels_finbert = remap_labels_for_finbert(val_labels)"
      ],
      "metadata": {
        "id": "D66bBS9-UhPg"
      },
      "execution_count": null,
      "outputs": []
    },
    {
      "cell_type": "code",
      "source": [
        "# Tokenize Data\n",
        "# Use each model's tokenizer\n",
        "# deprecated - using in the SentimentDataset wrapper\n",
        "\n",
        "def tokenize_data(tokenizer, dataset):\n",
        "  return tokenizer(dataset, padding=True, truncation=True, max_length=128)\n",
        "\n",
        "#train_encodings_bert = tokenize_data(models[\"bert-base\"][\"tokenizer\"], train_texts)\n",
        "#val_encodings_bert = tokenize_data(models[\"bert-base\"][\"tokenizer\"], val_texts)\n",
        "#train_encodings_finbert = tokenize_data(models[\"finbert\"][\"tokenizer\"], train_texts)\n",
        "#val_encodings_finbert = tokenize_data(models[\"finbert\"][\"tokenizer\"], val_texts)\n",
        "\n",
        "\n",
        "# Build Remap for Finbert\n",
        "def remap_finbert_to_phrasebank(labels):\n",
        "  # Remap finbert labels to match financial phrasebank dataset\n",
        "  # Finbert -> Phrasebank\n",
        "  # 0 ->  1 (Neutral)\n",
        "  # 1 -> 2 (Positive)\n",
        "  # 2 -> 0 (Negative)\n",
        "  label_map = {0:1, 1:2, 2:0}\n",
        "  return [label_map[label] for label in labels]"
      ],
      "metadata": {
        "id": "iilHyTgOcuUr"
      },
      "execution_count": null,
      "outputs": []
    },
    {
      "cell_type": "code",
      "source": [
        "test = [1,2,0] #pos, neg, neu\n",
        "remap_finbert_to_phrasebank(test)\n",
        "\n",
        "# 2,0,1 in phrasebank is: pos, neg, neutral"
      ],
      "metadata": {
        "id": "5SC373BVg0X_"
      },
      "execution_count": null,
      "outputs": []
    },
    {
      "cell_type": "code",
      "source": [
        "# Create wrapper for DataLoader\n",
        "class SentimentDataset(Dataset):\n",
        "    def __init__(self, texts, labels, tokenizer, max_len=128):\n",
        "        self.encodings = tokenizer(texts, truncation=True, padding=True, max_length=max_len)\n",
        "        self.labels = labels\n",
        "\n",
        "    def __getitem__(self, idx):\n",
        "        item = {k: torch.tensor(v[idx]) for k, v in self.encodings.items()}\n",
        "        item[\"labels\"] = torch.tensor(self.labels[idx])\n",
        "        return item\n",
        "\n",
        "    def __len__(self):\n",
        "        return len(self.labels)\n",
        "\n",
        "\n",
        "\n"
      ],
      "metadata": {
        "id": "okL7W23L8kEU"
      },
      "execution_count": null,
      "outputs": []
    },
    {
      "cell_type": "code",
      "source": [
        "# From Hugging Face Tutorial\n",
        "#import torch\n",
        "#from transformers import AutoTokenizer, AutoModelForSequenceClassification\n",
        "\n",
        "#checkpoint = \"distilbert-base-uncased-finetuned-sst-2-english\"\n",
        "#tokenizer = AutoTokenizer.from_pretrained(checkpoint)\n",
        "#model = AutoModelForSequenceClassification.from_pretrained(checkpoint)\n",
        "#sequences = [\"I've been waiting for a HuggingFace course my whole life.\", \"So have I!\"]\n",
        "\n",
        "#tokens = tokenizer(sequences, padding=True, truncation=True, return_tensors=\"pt\")\n",
        "#output = model(**tokens)"
      ],
      "metadata": {
        "id": "UGrQNkYit_tN"
      },
      "execution_count": null,
      "outputs": []
    },
    {
      "cell_type": "code",
      "source": [
        "def evaluate_model(model, dataloader, model_name=None, device=\"cuda\" if torch.cuda.is_available() else \"cpu\"):\n",
        "    model.eval()\n",
        "    model.to(device)\n",
        "\n",
        "    all_preds = []\n",
        "    all_labels = []\n",
        "\n",
        "    with torch.no_grad():\n",
        "        for batch in tqdm(dataloader, desc=f\"Evaluating {model_name or 'model'}\"):\n",
        "\n",
        "            # Extract Batch Features\n",
        "            input_ids      = batch['input_ids'].to(device)\n",
        "            attention_mask = batch['attention_mask'].to(device)\n",
        "            labels         = batch['labels'].to(device)\n",
        "\n",
        "            # Run through model for predictions\n",
        "            outputs     = model(input_ids=input_ids, attention_mask=attention_mask)\n",
        "            logits      = outputs.logits\n",
        "            predictions = torch.argmax(logits, dim=1)\n",
        "\n",
        "            # Remap predictions from FinBERT head to PhraseBank if needed\n",
        "            if model_name == \"finbert\":\n",
        "                remapped = remap_finbert_to_phrasebank(predictions.cpu().tolist())\n",
        "                predictions = torch.tensor(remapped, device=device)\n",
        "\n",
        "            # Move results to CPU for scikit\n",
        "            all_preds.extend(predictions.cpu().tolist())\n",
        "            all_labels.extend(labels.cpu().tolist())\n",
        "\n",
        "\n",
        "    # Compute metrics\n",
        "    label_names = [\"Negative\", \"Neutral\", \"Positive\"]\n",
        "    accuracy = sum([p == l for p, l in zip(all_preds, all_labels)]) / len(all_labels)\n",
        "\n",
        "    precision, recall, f1, _ = precision_recall_fscore_support(all_labels, all_preds, labels=[0, 1, 2], average=\"macro\", zero_division=0)\n",
        "\n",
        "    conf_matrix = confusion_matrix(all_labels, all_preds, labels=[0, 1, 2])\n",
        "\n",
        "    class_report = classification_report(all_labels, all_preds, target_names=label_names, zero_division=0)\n",
        "\n",
        "    # Print Results\n",
        "    print(\"Classification Report:\")\n",
        "    print(class_report)\n",
        "\n",
        "    print(\"Confusion Matrix:\")\n",
        "    print(conf_matrix)\n",
        "\n",
        "    return {\n",
        "        \"accuracy\": accuracy,\n",
        "        \"precision\": precision,\n",
        "        \"recall\": recall,\n",
        "        \"f1\": f1,\n",
        "        \"confusion_matrix\": conf_matrix\n",
        "    }"
      ],
      "metadata": {
        "id": "r2Vv_pf0VMs1"
      },
      "execution_count": null,
      "outputs": []
    },
    {
      "cell_type": "code",
      "source": [
        "resFin = evaluate_model(models[\"finbert\"][\"model\"], DataLoader(SentimentDataset(train_texts, train_labels, models[\"finbert\"][\"tokenizer\"]), batch_size=16), model_name=\"finbert\")"
      ],
      "metadata": {
        "id": "jNsuCexc7Laz"
      },
      "execution_count": null,
      "outputs": []
    },
    {
      "cell_type": "code",
      "source": [
        "resBert = evaluate_model(models[\"bert-base\"][\"model\"], DataLoader(SentimentDataset(train_texts, train_labels, models[\"bert-base\"][\"tokenizer\"]), batch_size=16))"
      ],
      "metadata": {
        "id": "s7nd1re5k0oF"
      },
      "execution_count": null,
      "outputs": []
    },
    {
      "cell_type": "code",
      "source": [],
      "metadata": {
        "id": "or2QtdLGmDqg"
      },
      "execution_count": null,
      "outputs": []
    },
    {
      "cell_type": "code",
      "source": [
        "def train_bert(model, train_dataloader, val_dataloader, epochs=3, lr=2e-5, device=\"cuda\"):\n",
        "    model.to(device)\n",
        "    model.train()\n",
        "\n",
        "    optimizer = torch.optim.AdamW(model.parameters(), lr=lr)\n",
        "    loss_fn = nn.CrossEntropyLoss()\n",
        "\n",
        "    for epoch in range(epochs):\n",
        "        print(f\"\\nEpoch {epoch+1}/{epochs}\")\n",
        "\n",
        "        # Training loop\n",
        "        total_loss = 0\n",
        "        for batch in tqdm(train_dataloader, desc=\"Training\"):\n",
        "            input_ids = batch[\"input_ids\"].to(device)\n",
        "            attention_mask = batch[\"attention_mask\"].to(device)\n",
        "            labels = batch[\"labels\"].to(device)\n",
        "\n",
        "            outputs = model(input_ids=input_ids, attention_mask=attention_mask)\n",
        "            logits = outputs.logits\n",
        "            loss = loss_fn(logits, labels)\n",
        "\n",
        "            optimizer.zero_grad()\n",
        "            loss.backward()\n",
        "            optimizer.step()\n",
        "\n",
        "            total_loss += loss.item()\n",
        "\n",
        "        avg_loss = total_loss / len(train_dataloader)\n",
        "        print(f\"Train Loss: {avg_loss:.4f}\")\n",
        "\n",
        "        # Optional: basic validation accuracy after each epoch\n",
        "        val_acc = evaluate_model(model, val_dataloader, model_name=\"bert-base\", device=device)[\"accuracy\"]\n",
        "        print(f\"Validation Accuracy: {val_acc:.4f}\")"
      ],
      "metadata": {
        "id": "TPefWXvUmkYS"
      },
      "execution_count": null,
      "outputs": []
    },
    {
      "cell_type": "code",
      "source": [
        "def train_on_increasing_sizes_simple(\n",
        "    model_template_path,\n",
        "    train_texts,\n",
        "    train_labels,\n",
        "    val_dataloader,\n",
        "    tokenizer,\n",
        "    fractions=[0.1, 0.25, 0.5, 0.75, 1.0],\n",
        "    batch_size=16,\n",
        "    epochs=3,\n",
        "    device=\"cuda\"\n",
        "):\n",
        "    results = {}\n",
        "\n",
        "    # make sure data is in consistent order\n",
        "    combined = list(zip(train_texts, train_labels))\n",
        "    total = len(combined)\n",
        "\n",
        "    for frac in fractions:\n",
        "        num_examples = int(frac * total)\n",
        "        print(f\"\\nTraining on {num_examples} examples ({int(frac * 100)}%)\")\n",
        "\n",
        "        # Take a simple slice of the data\n",
        "        subset = combined[:num_examples]\n",
        "        sub_texts, sub_labels = zip(*subset)\n",
        "\n",
        "        # Tokenize and wrap into Dataset and DataLoader\n",
        "        train_dataset = SentimentDataset(list(sub_texts), list(sub_labels), tokenizer)\n",
        "        train_loader = DataLoader(train_dataset, batch_size=batch_size, shuffle=True)\n",
        "\n",
        "        # Load a fresh model\n",
        "        model = AutoModelForSequenceClassification.from_pretrained(model_template_path, num_labels=3)\n",
        "\n",
        "        # Train and evaluate\n",
        "        train_bert(model, train_loader, val_dataloader, epochs=epochs, device=device)\n",
        "        metrics = evaluate_model(model, val_dataloader, model_name=\"bert-base\", device=device)\n",
        "\n",
        "        results[f\"{int(frac*100)}%\"] = metrics\n",
        "\n",
        "    return results"
      ],
      "metadata": {
        "id": "h2Fb4zB2mkVy"
      },
      "execution_count": null,
      "outputs": []
    },
    {
      "cell_type": "code",
      "source": [
        "# Prepare val_loader (only once)\n",
        "val_dataset = SentimentDataset(val_texts, val_labels, models[\"bert-base\"][\"tokenizer\"])\n",
        "val_loader = DataLoader(val_dataset, batch_size=16)\n",
        "\n",
        "# Run training loop\n",
        "results = train_on_increasing_sizes_simple(\n",
        "    model_template_path=\"bert-base-uncased\",\n",
        "    train_texts=train_texts,\n",
        "    train_labels=train_labels,\n",
        "    val_dataloader=val_loader,\n",
        "    tokenizer=models[\"bert-base\"][\"tokenizer\"],\n",
        "    fractions=[0.1, 0.25, 0.5, 0.75, 1.0],\n",
        "    batch_size=16,\n",
        "    epochs=3\n",
        ")"
      ],
      "metadata": {
        "id": "vqFlxdkMmkTT"
      },
      "execution_count": null,
      "outputs": []
    },
    {
      "cell_type": "code",
      "source": [
        "results"
      ],
      "metadata": {
        "id": "P_imuUYdmkQm"
      },
      "execution_count": null,
      "outputs": []
    },
    {
      "cell_type": "code",
      "source": [],
      "metadata": {
        "id": "73FRJCCYmkIJ"
      },
      "execution_count": null,
      "outputs": []
    },
    {
      "cell_type": "markdown",
      "source": [
        "Now we can start to train the bert model on the dataset"
      ],
      "metadata": {
        "id": "jZ8PN3SHmSYr"
      }
    }
  ]
}